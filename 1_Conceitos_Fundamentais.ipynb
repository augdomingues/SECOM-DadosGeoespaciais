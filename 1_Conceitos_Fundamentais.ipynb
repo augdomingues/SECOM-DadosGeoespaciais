{
 "cells": [
  {
   "cell_type": "markdown",
   "metadata": {},
   "source": [
    "# Dados geoespaciais na prática\n",
    "Agora que nós vimos os conceitos, técnicas e ferramentas para trabalhar com dados geoespaciais, vamos ver na prática como trabalhar com os dados. A idéia aqui é mostrar como pode ser fácil usar dados geoespaciais. \n",
    "\n",
    "- Leitura de dados geoespaciais \n",
    "- Limpeza dos dados\n",
    "- Filtragem dos dados\n",
    "- Análise e visualização dos dados\n",
    "- Extração de conhecimento"
   ]
  },
  {
   "cell_type": "code",
   "execution_count": null,
   "metadata": {},
   "outputs": [],
   "source": [
    "# Importando algumas bibliotecas para trabalharmos com os dados\n",
    "\n",
    "# Pandas é uma biblioteca que permite criar dataframes, que são tabelas de dados.\n",
    "# Nelas que nós armazenaremos os nossos dados enquanto trabalhamos com eles.\n",
    "import pandas as pd\n",
    "\n",
    "# Numpy é uma biblioteca para trabalhar com vetores/matrizes, e realizar cálculos\n",
    "# sobre eles.\n",
    "import numpy as np\n",
    "\n",
    "# Matplotlib é uma biblioteca para a construção de gráficos simples\n",
    "import matplotlib.pyplot as plt\n",
    "plt.rcParams['figure.figsize'] = [8, 6]\n",
    "\n",
    "# Seaborn é uma biblioteca para a construção de gráficos um pouco mais complexos\n",
    "import seaborn as sns\n",
    "\n",
    "# Folium é uma biblioteca para a construção de gráficos de dados geoespaciais\n",
    "import folium\n",
    "\n",
    "from IPython.display import display\n",
    "\n",
    "# Plotly é uma biblioteca para construção de gráficos complexos, com suporte\n",
    "# para gráficos geoespaciais\n",
    "import plotly.express as px\n",
    "\n",
    "# Shapely é uma biblioteca para a construção de formas geométricas, como Pontos,\n",
    "# Linhas, e formas geométricas em geral\n",
    "from shapely.geometry import Point\n",
    "\n",
    "# Networkx é uma biblioteca para a construção de grafos\n",
    "import networkx as nx\n",
    "import osmnx as ox\n",
    "ox.config(use_cache=True, log_console=True)\n",
    "\n",
    "# Haversine é uma biblioteca para calcularmos a distância de haversine entre duas\n",
    "# coordenadas geoespaciais\n",
    "from haversine import haversine\n",
    "\n",
    "# Para trabalharmos com datas e horas\n",
    "from datetime import date"
   ]
  },
  {
   "cell_type": "markdown",
   "metadata": {},
   "source": [
    "## 1. Leitura e 'conhecimento' breve dos dados\n",
    "A seguir, vamos carregar os dados e dar uma olhada rápida para entendermos\n",
    "suas características"
   ]
  },
  {
   "cell_type": "code",
   "execution_count": null,
   "metadata": {},
   "outputs": [],
   "source": [
    "# Lendo o arquivo com os dados geoespaciais\n",
    "dataset = pd.read_csv(\"new_york_taxi_data.csv\")"
   ]
  },
  {
   "cell_type": "code",
   "execution_count": null,
   "metadata": {},
   "outputs": [],
   "source": [
    "# Vamos ver como o nosso dataset se parece\n",
    "dataset"
   ]
  },
  {
   "cell_type": "markdown",
   "metadata": {},
   "source": [
    "Pela visualização acima, vemos que temos 400 mil linhas (400 mil viagens)\n",
    "e 19 colunas, onde cada coluna representa uma característica das viagens"
   ]
  },
  {
   "cell_type": "code",
   "execution_count": null,
   "metadata": {},
   "outputs": [],
   "source": [
    "# Vamos gerar uma amostra, para podermos trabalhar de forma mais rápida\n",
    "# dataset = dataset.sample(100000)"
   ]
  },
  {
   "cell_type": "code",
   "execution_count": null,
   "metadata": {},
   "outputs": [],
   "source": [
    "# Vamos checar as colunas do conjunto de dados\n",
    "dataset.columns"
   ]
  },
  {
   "cell_type": "markdown",
   "metadata": {},
   "source": [
    "## Entendendo as colunas:\n",
    "\n",
    "- VendorID: Identificador do fornecedor da tecnologia de coleta dos dados das viagens\n",
    "- tpep_pickup_datetime: Data e hora do momento no qual o taxímetro foi ligado\n",
    "- tpep_dropoff_datetime: Data e hora do momento no qual o taxímetro foi desligado\n",
    "- passenger_count: Número de passageiros\n",
    "- trip_distance: Distância percorrida (em milhas) durante a viagem\n",
    "- pickup_longitude: Coordenadas de longitude do início da viagem\n",
    "- pickup_latitude: Coordenadas de latitude do início da viagem\n",
    "- RatecodeID: \n",
    "- store_and_fwd_flag:\n",
    "- dropoff_longitude:\n",
    "- dropoff_latitude:\n",
    "- payment_type:\n",
    "- fare_amount:\n",
    "- extra:\n",
    "- mta_tax:\n",
    "- tip_amount:\n",
    "- tolls_amount:\n",
    "- improvement_surcharge:\n",
    "- total_amount:\n",
    "\n",
    "Podemos apagar as colunas que não pretendemos usar em nossas análises.\n",
    "Lembrem-se: ao trabalhar com grandes quantidades de dados, é preciso se atentar\n",
    "ao uso eficiente dos recursos computacionais, especialmente quanto à memória"
   ]
  },
  {
   "cell_type": "code",
   "execution_count": null,
   "metadata": {},
   "outputs": [],
   "source": [
    "# Vamos apagar as colunas que não queremos usar\n",
    "del dataset['payment_type']\n",
    "del dataset['mta_tax']\n",
    "del dataset['improvement_surcharge']\n",
    "del dataset['extra']\n",
    "del dataset['store_and_fwd_flag']\n",
    "del dataset['RatecodeID']\n",
    "del dataset['VendorID']"
   ]
  },
  {
   "cell_type": "markdown",
   "metadata": {},
   "source": [
    "## 2. Preparação dos dados (pré processamento, limpeza e filtragem)"
   ]
  },
  {
   "cell_type": "code",
   "execution_count": null,
   "metadata": {},
   "outputs": [],
   "source": [
    "# Fazendo alguns preprocessamentos iniciais para trabalharmos com os dados\n",
    "\n",
    "# A distância original está em milhas; Vamos convertê-la para quilômetros\n",
    "dataset['trip_distance_km'] = dataset['trip_distance'] * 1.60934\n",
    "\n",
    "# Convertendo o campo contendo a data e hora do início da viagem para um formato\n",
    "# datetime (o formato original é string)\n",
    "dataset['tpep_pickup_datetime'] = pd.to_datetime(dataset['tpep_pickup_datetime'])\n",
    "\n",
    "# Convertendo o campo contendo a data e hora do fim da viagem para um formato\n",
    "# datetime (o formato original é string)\n",
    "dataset['tpep_dropoff_datetime'] = pd.to_datetime(dataset['tpep_dropoff_datetime'])\n",
    "\n",
    "# Calculando a duração da viagem em minutos (tempo de fim - tempo de início)\n",
    "dataset['trip_duration_min'] = (dataset['tpep_dropoff_datetime'] - dataset['tpep_pickup_datetime']).astype('timedelta64[m]')\n",
    "\n",
    "# Calculando a hora e o dia da semana na qual a viagem ocorre\n",
    "dataset['hour'] = dataset.tpep_pickup_datetime.dt.hour\n",
    "dataset['dia_da_semana'] = dataset.tpep_dropoff_datetime.dt.weekday\n",
    "# Segunda = 0, Domingo = 6\n",
    "\n",
    "\n",
    "# Por fim, vamos ordenar os registros pelo momento de início da viagem\n",
    "dataset = dataset.sort_values(by='tpep_pickup_datetime')"
   ]
  },
  {
   "cell_type": "markdown",
   "metadata": {},
   "source": [
    "Com os dados carregados e pré processados, vamos visualizar \n",
    "algumas das features em busca de comportamentos\n",
    "anormais; Assim, fazemos a limpeza dos dados:"
   ]
  },
  {
   "cell_type": "code",
   "execution_count": null,
   "metadata": {},
   "outputs": [],
   "source": [
    "# Vamos visualizar a distribuição da quantidade de passageiros por viagem\n",
    "fig = px.histogram(dataset, x='passenger_count')\n",
    "fig.show()"
   ]
  },
  {
   "cell_type": "code",
   "execution_count": null,
   "metadata": {},
   "outputs": [],
   "source": [
    "# Vamos visualizar a distribuição da distância total (em km) das viagens\n",
    "figure = px.histogram(dataset, x='trip_distance')\n",
    "figure.show()"
   ]
  },
  {
   "cell_type": "code",
   "execution_count": null,
   "metadata": {},
   "outputs": [],
   "source": [
    "# Vamos visualizar a distribuição das durações das viagens (em minutos)\n",
    "figure = px.histogram(dataset, x='trip_duration_min')\n",
    "figure.show()"
   ]
  },
  {
   "cell_type": "code",
   "execution_count": null,
   "metadata": {},
   "outputs": [],
   "source": [
    "# Por fim, vamos visualizar a distribuição dos custos das viagens (em dólares)\n",
    "figure = px.histogram(dataset, x='total_amount')\n",
    "figure.show()"
   ]
  },
  {
   "cell_type": "code",
   "execution_count": null,
   "metadata": {},
   "outputs": [],
   "source": [
    "# Para comprovar, vamos analisar as viagens com comprimento maior que 5000km\n",
    "\n",
    "irregular_trips_distance = dataset[dataset.trip_distance_km > 5000]\n",
    "irregular_trips_distance"
   ]
  },
  {
   "cell_type": "markdown",
   "metadata": {},
   "source": [
    "Só há uma viagem, e pela duração (9 minutos), a distância não faz sentido. Podemos descartá-la"
   ]
  },
  {
   "cell_type": "code",
   "execution_count": null,
   "metadata": {},
   "outputs": [],
   "source": [
    "# Vamos ver também as viagens com duração maior que 24 horas\n",
    "irregular_trips_hour = dataset[dataset.trip_duration_min > 24*60]\n",
    "irregular_trips_hour"
   ]
  },
  {
   "cell_type": "markdown",
   "metadata": {},
   "source": [
    "Só há uma viagem com duração de aproximadamente 26 dias; Também podemos descartá-la"
   ]
  },
  {
   "cell_type": "code",
   "execution_count": null,
   "metadata": {},
   "outputs": [],
   "source": [
    "# Por fim, vamos ver as as viagens com custo maior que 200 dólares\n",
    "irregular_trips_amount = dataset[dataset.total_amount >= 250]\n",
    "irregular_trips_amount"
   ]
  },
  {
   "cell_type": "markdown",
   "metadata": {},
   "source": [
    "São algumas viagens, várias com comportamento inesperado; Vamos removê-las também"
   ]
  },
  {
   "cell_type": "code",
   "execution_count": null,
   "metadata": {},
   "outputs": [],
   "source": [
    "# Aplicando a limpeza sobre os dados:\n",
    "\n",
    "# Para a duração\n",
    "dataset = dataset[dataset.trip_duration_min <= 2*60]\n",
    "\n",
    "# Para a distância\n",
    "dataset = dataset[dataset.trip_distance_km <= 50]\n",
    "\n",
    "# Para o custo final\n",
    "dataset = dataset[dataset.total_amount < 250]\n",
    "dataset = dataset[dataset.total_amount > 0]"
   ]
  },
  {
   "cell_type": "code",
   "execution_count": null,
   "metadata": {},
   "outputs": [],
   "source": [
    "figure = px.histogram(dataset, x='trip_distance_km')\n",
    "figure.show()\n",
    "\n",
    "figure = px.histogram(dataset, x='trip_duration_min')\n",
    "figure.show()\n",
    "\n",
    "figure = px.histogram(dataset, x='total_amount')\n",
    "figure.show()"
   ]
  },
  {
   "cell_type": "markdown",
   "metadata": {},
   "source": [
    "### Em seguida, vamos aplicar filtros espaciais para excluir as viagens que ocorrem fora da ilha de Manhattan."
   ]
  },
  {
   "cell_type": "code",
   "execution_count": null,
   "metadata": {},
   "outputs": [],
   "source": [
    "# Vamos utilizar a biblioteca osmnx para carregar as geometrias correspondetes à area da ilha\n",
    "manhattan = ox.geocode_to_gdf('Manhattan, New York')"
   ]
  },
  {
   "cell_type": "code",
   "execution_count": null,
   "metadata": {},
   "outputs": [],
   "source": [
    "# Visualizando a geometria de Manhattan\n",
    "ax = ox.project_gdf(manhattan).plot()"
   ]
  },
  {
   "cell_type": "code",
   "execution_count": null,
   "metadata": {},
   "outputs": [],
   "source": [
    "# Checando se o ponto de origem está dentro de Manhattan\n",
    "def check_origin_inside(trip):\n",
    "    origin = Point(trip.pickup_longitude, trip.pickup_latitude)\n",
    "    for shape in manhattan.geometry.values[0]:\n",
    "        if shape.contains(origin):\n",
    "            return True\n",
    "    return False\n",
    "\n",
    "# Checando se o ponto de destino está dentro de Manhattan\n",
    "def check_destination_inside(trip):\n",
    "    destination = Point(trip.dropoff_longitude, trip.dropoff_latitude)\n",
    "    for shape in manhattan.geometry.values[0]:\n",
    "        if shape.contains(destination):\n",
    "            return True\n",
    "    return False"
   ]
  },
  {
   "cell_type": "code",
   "execution_count": null,
   "metadata": {},
   "outputs": [],
   "source": [
    "# Aplicando as funções e salvando os resultados\n",
    "dataset['origin_inside_manhattan'] = dataset.apply(check_origin_inside, axis=1)\n",
    "dataset['destination_inside_manhattan'] = dataset.apply(check_destination_inside, axis=1)"
   ]
  },
  {
   "cell_type": "code",
   "execution_count": null,
   "metadata": {},
   "outputs": [],
   "source": [
    "# Vamos ver a proporção das viagens:\n",
    "\n",
    "# Distribuição das viagens quanto à localização de origem\n",
    "print(\"Proporção de viagens com origem dentro (True) e fora (False) de Manhattan\")\n",
    "print(dataset.origin_inside_manhattan.value_counts(normalize=True))\n",
    "\n",
    "# Distribuição das viagens quanto à localização de destino\n",
    "print(\"\\nProporção de viagens com destino dentro (True) e fora (False) de Manhattan\")\n",
    "print(dataset.destination_inside_manhattan.value_counts(normalize=True))"
   ]
  },
  {
   "cell_type": "code",
   "execution_count": null,
   "metadata": {},
   "outputs": [],
   "source": [
    "# Filtrando viagens localizadas totalmente em Manhattan\n",
    "dataset = dataset[dataset.origin_inside_manhattan == True]\n",
    "dataset = dataset[dataset.destination_inside_manhattan == True]"
   ]
  },
  {
   "cell_type": "markdown",
   "metadata": {},
   "source": [
    "## 3. Visualização dos dados\n",
    "Com os dados prontos, vamos visualizá-los. Existem diversas formas de visualizar\n",
    "dados geoespaciais, de acordo com os objetivos"
   ]
  },
  {
   "cell_type": "code",
   "execution_count": null,
   "metadata": {},
   "outputs": [],
   "source": [
    "# Vamos começar visualizando todas as viagens em nosso dataset\n",
    "\n",
    "# Primeiro, tentaremos visualizar usando um gráfico de dispersão\n",
    "plt.subplot(121)\n",
    "plt.scatter(dataset.pickup_longitude, dataset.pickup_latitude)\n",
    "plt.title(\"Inicio da viagem\")\n",
    "\n",
    "plt.subplot(122)\n",
    "plt.scatter(dataset.dropoff_longitude, dataset.dropoff_latitude)\n",
    "plt.title(\"Fim da viagem\")\n",
    "plt.show()"
   ]
  },
  {
   "cell_type": "markdown",
   "metadata": {},
   "source": [
    "Não é muito funcional; São muitas viagens e os pontos se sobrepõem...\n",
    "Podemos tentar a visualização utilizando um mapa de calor, assim os dados se agrupam de forma melhor e não\n",
    "perdemos informações essenciais:"
   ]
  },
  {
   "cell_type": "code",
   "execution_count": null,
   "metadata": {},
   "outputs": [],
   "source": [
    "# Vamos testar também um mapa de calor\n",
    "figure = px.density_mapbox(dataset,\n",
    "                           lat='pickup_latitude',\n",
    "                           lon='pickup_longitude',\n",
    "                           radius=10,\n",
    "                           zoom=11,\n",
    "                           mapbox_style=\"stamen-terrain\")\n",
    "                        \n",
    "figure.show()"
   ]
  },
  {
   "cell_type": "markdown",
   "metadata": {},
   "source": [
    "A distribuição das viagens é bem uniforme; Talvez o mapa de calor não seja a visualização mais adequada"
   ]
  },
  {
   "cell_type": "code",
   "execution_count": null,
   "metadata": {},
   "outputs": [],
   "source": [
    "# Vamos testar então um grid\n",
    "\n",
    "# Para os pontos de partida\n",
    "px.density_heatmap(dataset,\n",
    "                   x=\"pickup_longitude\",\n",
    "                   y=\"pickup_latitude\",\n",
    "                   nbinsy=200,\n",
    "                   nbinsx=200)"
   ]
  },
  {
   "cell_type": "code",
   "execution_count": null,
   "metadata": {},
   "outputs": [],
   "source": [
    "# Para os pontos de destino\n",
    "px.density_heatmap(dataset,\n",
    "                   x=\"dropoff_longitude\",\n",
    "                   y=\"dropoff_latitude\",\n",
    "                   nbinsy=200,\n",
    "                   nbinsx=200)"
   ]
  },
  {
   "cell_type": "markdown",
   "metadata": {},
   "source": [
    "O mapa de calor dá um resultado melhor: podemos ver a distribuição espacial das viagens, e os pontos\n",
    "com maior concentração de viagens estão visíveis"
   ]
  },
  {
   "cell_type": "code",
   "execution_count": null,
   "metadata": {},
   "outputs": [],
   "source": [
    "# O que tem no ponto com o maior número de partidas?\n",
    "m = folium.Map(location=[40.7515, -73.9940], zoom_start=17)\n",
    "folium.Marker(location=[40.7515, -73.9940],\n",
    "              popup='Local de partida mais frequente').add_to(m)\n",
    "m"
   ]
  },
  {
   "cell_type": "code",
   "execution_count": null,
   "metadata": {
    "scrolled": false
   },
   "outputs": [],
   "source": [
    "# O que tem no ponto com o maior número de viagens?\n",
    "m = folium.Map(location=[40.7505, -73.9915], zoom_start=17)\n",
    "folium.Marker(location=[40.7505, -73.9915],\n",
    "              popup='Local de destino mais frequente').add_to(m)\n",
    "m"
   ]
  },
  {
   "cell_type": "markdown",
   "metadata": {},
   "source": [
    "Pelos dados, podemos afirmar a existência de um ponto de interesse das viagens de táxi: \n",
    "Madison Square Garden"
   ]
  },
  {
   "cell_type": "code",
   "execution_count": null,
   "metadata": {},
   "outputs": [],
   "source": [
    "# Qual o tamanho ideal dos grãos do gráfico em grid?\n",
    "\n",
    "# 10x10 grãos\n",
    "figure = px.density_heatmap(dataset,\n",
    "                            x=\"pickup_longitude\",\n",
    "                            y=\"pickup_latitude\",\n",
    "                            nbinsy=10,\n",
    "                            nbinsx=10)\n",
    "figure.show()\n",
    "\n",
    "# 100x100 grãos\n",
    "figure = px.density_heatmap(dataset,\n",
    "                            x=\"pickup_longitude\",\n",
    "                            y=\"pickup_latitude\",\n",
    "                            nbinsy=100,\n",
    "                            nbinsx=100)\n",
    "figure.show()\n",
    "\n",
    "# 1000x1000 grãos\n",
    "figure = px.density_heatmap(dataset,\n",
    "                            x=\"pickup_longitude\",\n",
    "                            y=\"pickup_latitude\",\n",
    "                            nbinsy=1000,\n",
    "                            nbinsx=1000)\n",
    "figure.show()"
   ]
  },
  {
   "cell_type": "code",
   "execution_count": null,
   "metadata": {},
   "outputs": [],
   "source": [
    "# Podemos até mesmo adicionar outras variáveis ao nosso grid; nesse caso, o custo total das viagens\n",
    "# Para isso, podemos escolher também uma função de agregação: valor utilizar a média\n",
    "px.density_heatmap(dataset,\n",
    "                   x=\"pickup_longitude\",\n",
    "                   y=\"pickup_latitude\",\n",
    "                   histfunc='avg',\n",
    "                   z='total_amount',\n",
    "                   nbinsy=1000,\n",
    "                   nbinsx=1000)\n"
   ]
  },
  {
   "cell_type": "markdown",
   "metadata": {},
   "source": [
    "Ao olhar o resultado do gráfico acima, podemos concluir que não há influência do local de partida sobre o preço final da viagem"
   ]
  },
  {
   "cell_type": "markdown",
   "metadata": {},
   "source": [
    "Podemos analisar também a distribuição das viagens durante o tempo:"
   ]
  },
  {
   "cell_type": "code",
   "execution_count": null,
   "metadata": {},
   "outputs": [],
   "source": [
    "# Vamos filtrar todas as viagens que ocorrem no dia 1o de Janeiro\n",
    "day_sample1 = dataset[dataset.tpep_pickup_datetime.dt.date == date(2016, 1, 1)].copy()"
   ]
  },
  {
   "cell_type": "code",
   "execution_count": null,
   "metadata": {},
   "outputs": [],
   "source": [
    "# Vamos filtrar também todas as viagens que ocorreram no dia 15 de Janeiro\n",
    "day_sample2 = dataset[dataset.tpep_pickup_datetime.dt.date == date(2016, 1, 15)].copy()"
   ]
  },
  {
   "cell_type": "code",
   "execution_count": null,
   "metadata": {},
   "outputs": [],
   "source": [
    "# Vamos visualizar a dispersão das viagens com o passar das horas durante o dia:\n",
    "\n",
    "figure = px.scatter_mapbox(day_sample1,\n",
    "                        lat='pickup_latitude',\n",
    "                        lon='pickup_longitude',\n",
    "                        animation_frame='hour',\n",
    "                        color='trip_duration_min', # E se quisermos visualizar a distância ou tempo de viagem?\n",
    "                        zoom=10,\n",
    "                        title='Viagens no dia 1o de Janeiro')\n",
    "figure.update_layout(mapbox_style=\"open-street-map\")\n",
    "figure.show()\n",
    "\n",
    "\n",
    "figure = px.scatter_mapbox(day_sample2,\n",
    "                        lat='pickup_latitude',\n",
    "                        lon='pickup_longitude',\n",
    "                        animation_frame='hour',\n",
    "                        color='trip_duration_min', # E se quisermos visualizar a distância ou tempo de viagem?\n",
    "                        zoom=10,\n",
    "                        title='Viagens no dia 15 de Janeiro')\n",
    "figure.update_layout(mapbox_style=\"open-street-map\")\n",
    "figure.show()"
   ]
  },
  {
   "cell_type": "markdown",
   "metadata": {},
   "source": [
    "## 4. Aplicação dos dados\n",
    "Agora que visualizamos os dados e fizemos análises iniciais, podemos propor aplicações para eles;\n",
    "\n",
    "Vamos ver rapidamente 4 aplicações para nossos dados:\n",
    "- Detecção de fraudes\n",
    "- Detecção de Pontos de Interesse (PoI)\n",
    "- Ridesharing\n",
    "- Efeitos do tempo nas viagens"
   ]
  },
  {
   "cell_type": "code",
   "execution_count": null,
   "metadata": {},
   "outputs": [],
   "source": [
    "def filtra_viagens(viagens, origem, destino, raio=.250):\n",
    "    viagens.loc[:, \"dist_origem\"] = viagens.apply(lambda x: haversine((x.pickup_latitude,\n",
    "                                                                       x.pickup_longitude),\n",
    "                                                                      (origem[0],\n",
    "                                                                       origem[1])), axis=1)\n",
    "    \n",
    "    viagens.loc[:, \"dist_destino\"] = viagens.apply(lambda x: haversine((x.dropoff_latitude,\n",
    "                                                                        x.dropoff_longitude),\n",
    "                                                                       (destino[0],\n",
    "                                                                        destino[1])), axis=1)\n",
    "\n",
    "    viagens_filtradas = dataset[(dataset.dist_origem < raio) & (dataset.dist_destino < raio)]\n",
    "    return viagens_filtradas.copy()\n"
   ]
  },
  {
   "cell_type": "markdown",
   "metadata": {},
   "source": [
    "###  4.1 Detecção de fraudes\n",
    "Dado um ponto de origem O, um ponto de destino D:\n",
    "- Qual a distância média das viagens entre esses dois pontos?\n",
    "- Qual o custo médio das viagens?\n",
    "- É possível detectar uma fraude por uma viagem com distância muito acima da média?\n",
    "  - Ela possui custo acima da média também?"
   ]
  },
  {
   "cell_type": "code",
   "execution_count": null,
   "metadata": {},
   "outputs": [],
   "source": [
    "# Vamos definir uma origem\n",
    "origem = [40.7515, -73.9940]\n",
    "\n",
    "# E um destino\n",
    "destino = [40.7360, -73.9911]\n",
    "\n",
    "\n",
    "# Filtrando as viagens\n",
    "viagens = filtra_viagens(dataset, origem, destino)\n",
    "                                                   \n",
    "figure = px.histogram(viagens, x='total_amount')\n",
    "figure.show()\n",
    "\n",
    "figure = px.histogram(viagens, x='trip_distance')\n",
    "figure.show()\n",
    "\n",
    "figure = px.histogram(viagens, x='trip_duration_min')\n",
    "figure.show()\n",
    "\n",
    "figure = px.scatter(viagens, x='total_amount', y='trip_distance_km', color='tip_amount') #adicionar tips\n",
    "figure.show()"
   ]
  },
  {
   "cell_type": "markdown",
   "metadata": {},
   "source": [
    "### 4.2 Pontos de Interesse (PoI)\n",
    "Conseguimos detectar pontos de interesse a partir das viagens? Como podemos fazê-lo? Dica: Podemos usar os volumes de viagens em determinadas regiões"
   ]
  },
  {
   "cell_type": "code",
   "execution_count": null,
   "metadata": {},
   "outputs": [],
   "source": [
    "viagens_sexta = dataset[dataset.dia_da_semana == 4]\n",
    "viagens_sexta = viagens_sexta.sort_values(by='hour')\n",
    "\n",
    "fig = px.density_heatmap(viagens_sexta,\n",
    "                        x='dropoff_latitude',\n",
    "                        y='dropoff_longitude',\n",
    "                        animation_frame='hour',\n",
    "                        nbinsx=100,\n",
    "                        nbinsy=100)\n",
    "fig.update_layout(mapbox_style=\"open-street-map\")\n"
   ]
  },
  {
   "cell_type": "code",
   "execution_count": null,
   "metadata": {},
   "outputs": [],
   "source": [
    "# point = # LATITUDE, LONGITUDE\n",
    "m = folium.Map(location=point, zoom_start=17)\n",
    "folium.Marker(location=point,\n",
    "              popup='Ponto de interesse').add_to(m)\n",
    "m"
   ]
  },
  {
   "cell_type": "markdown",
   "metadata": {},
   "source": [
    "### 4.3 Ridesharing\n",
    "Se compartilharmos viagens, qual será o custo final para os passageiros?"
   ]
  },
  {
   "cell_type": "code",
   "execution_count": null,
   "metadata": {},
   "outputs": [],
   "source": [
    "origem = [40.7515, -73.9940]\n",
    "destino = [40.7360, -73.9911]\n",
    "\n",
    "viagens = filtra_viagens(dataset, origem, destino, raio=.50)\n",
    "\n",
    "viagens['quinto_de_hora'] = viagens.tpep_pickup_datetime.apply(lambda x: x.minute//10)\n",
    "\n",
    "for gn, gd in viagens.groupby(by=[viagens.tpep_pickup_datetime.dt.month,\n",
    "                                  viagens.tpep_pickup_datetime.dt.day,\n",
    "                                  viagens.tpep_pickup_datetime.dt.hour,\n",
    "                                  viagens.quinto_de_hora]):\n",
    "    if len(gd) > 1:\n",
    "        print(f\"No mês {gn[0]}, dia {gn[1]}, hora {gn[2]} e intervalo de hora {gn[3]}, ocorreram as seguintes viagens:\")\n",
    "        display(gd[['tpep_pickup_datetime',\n",
    "                   'passenger_count',\n",
    "                   'total_amount',\n",
    "                   'pickup_latitude',\n",
    "                   'pickup_longitude',\n",
    "                   'dropoff_latitude',\n",
    "                   'dropoff_longitude']])\n",
    "        \n",
    "        confirmacao = input(\"Ver o próximo cenário? (s/n)\")\n",
    "        if confirmacao == 'n':\n",
    "            break"
   ]
  },
  {
   "cell_type": "markdown",
   "metadata": {},
   "source": [
    "### 4.4 Efeitos das condições climáticas\n",
    "Para duas viagens semelhantes, os tempos são piores/custos maiores durante períodos de chuva/neve?"
   ]
  },
  {
   "cell_type": "code",
   "execution_count": null,
   "metadata": {},
   "outputs": [],
   "source": [
    "origem = [40.7515, -73.9940]\n",
    "destino = [40.7361, -73.9912]\n",
    "\n",
    "viagens = filtra_viagens(dataset, origem, destino)\n",
    "\n",
    "viagens['Com neve?'] = viagens.tpep_pickup_datetime.dt.month == 1\n",
    "\n",
    "figure = px.scatter(viagens,\n",
    "                    x='trip_duration_min',\n",
    "                    y='trip_distance_km',\n",
    "                    facet_col='Com neve?',\n",
    "                    color='tip_amount')\n",
    "figure.show()"
   ]
  },
  {
   "cell_type": "code",
   "execution_count": null,
   "metadata": {},
   "outputs": [],
   "source": []
  }
 ],
 "metadata": {
  "kernelspec": {
   "display_name": "Python 3",
   "language": "python",
   "name": "python3"
  },
  "language_info": {
   "codemirror_mode": {
    "name": "ipython",
    "version": 3
   },
   "file_extension": ".py",
   "mimetype": "text/x-python",
   "name": "python",
   "nbconvert_exporter": "python",
   "pygments_lexer": "ipython3",
   "version": "3.7.5"
  }
 },
 "nbformat": 4,
 "nbformat_minor": 4
}
